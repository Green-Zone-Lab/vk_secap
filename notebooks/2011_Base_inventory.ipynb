{
 "cells": [
  {
   "cell_type": "code",
   "execution_count": 2,
   "metadata": {},
   "outputs": [],
   "source": [
    "%load_ext autoreload"
   ]
  },
  {
   "cell_type": "code",
   "execution_count": 3,
   "metadata": {},
   "outputs": [],
   "source": [
    "%autoreload 2"
   ]
  },
  {
   "cell_type": "code",
   "execution_count": 64,
   "metadata": {
    "tags": []
   },
   "outputs": [],
   "source": [
    "import pandas as pd\n",
    "import seaborn as sns\n",
    "import os\n",
    "import matplotlib.pyplot as plt\n",
    "import sys\n",
    "module_path = os.path.abspath(os.path.join('..'))\n",
    "if module_path not in sys.path:\n",
    "    sys.path.append(module_path)\n",
    "from src.energy_consumption import Energy2011\n",
    "from src.Constants import Constants"
   ]
  },
  {
   "cell_type": "markdown",
   "metadata": {},
   "source": [
    "# 1. Energy consumption in buildings"
   ]
  },
  {
   "cell_type": "code",
   "execution_count": 35,
   "metadata": {},
   "outputs": [],
   "source": [
    "data = pd.read_csv('../data/vinkovci_grijanje_2011.csv')"
   ]
  },
  {
   "cell_type": "markdown",
   "metadata": {},
   "source": [
    "* Convert to MWh"
   ]
  },
  {
   "cell_type": "code",
   "execution_count": 36,
   "metadata": {},
   "outputs": [],
   "source": [
    "data['potrošnja_toplinske_energije(MWh)'] = data['potrošnja_toplinske_energije(kWh)'] / 1000"
   ]
  },
  {
   "cell_type": "markdown",
   "metadata": {},
   "source": [
    "* Group by category and energy source"
   ]
  },
  {
   "cell_type": "code",
   "execution_count": 45,
   "metadata": {},
   "outputs": [
    {
     "data": {
      "text/plain": [
       "kategorija                          energent           \n",
       "komercijalne I uslužne djelatnosti  električna energija     2340.44800\n",
       "                                    lož ulje                6441.28200\n",
       "                                    ogrjevno drvo          23188.61520\n",
       "                                    prirodni plin          62307.56056\n",
       "kulturne ustanove                   lož ulje                  63.25826\n",
       "                                    prirodni plin            657.67756\n",
       "objekti i uredi gradskih tvrtki     prirodni plin            473.13697\n",
       "stambeni sektor                     električna energija    15646.12000\n",
       "                                    lož ulje                5760.00351\n",
       "                                    ogrjevno drvo          41250.80853\n",
       "                                    prirodni plin          85563.07134\n",
       "uprava                              električna energija       37.80000\n",
       "                                    prirodni plin            593.80058\n",
       "školstvo                            lož ulje                  15.30442\n",
       "                                    prirodni plin           3219.44426\n",
       "Name: potrošnja_toplinske_energije(MWh), dtype: float64"
      ]
     },
     "execution_count": 45,
     "metadata": {},
     "output_type": "execute_result"
    }
   ],
   "source": [
    "data.groupby(['kategorija', 'energent'])['potrošnja_toplinske_energije(MWh)'].sum()"
   ]
  },
  {
   "cell_type": "markdown",
   "metadata": {},
   "source": [
    "* Total consumption by energy source"
   ]
  },
  {
   "cell_type": "code",
   "execution_count": 46,
   "metadata": {},
   "outputs": [
    {
     "data": {
      "text/plain": [
       "energent\n",
       "električna energija     18024.36800\n",
       "lož ulje                12279.84819\n",
       "ogrjevno drvo           64439.42373\n",
       "prirodni plin          152814.69127\n",
       "Name: potrošnja_toplinske_energije(MWh), dtype: float64"
      ]
     },
     "execution_count": 46,
     "metadata": {},
     "output_type": "execute_result"
    }
   ],
   "source": [
    "data.groupby(['energent'])['potrošnja_toplinske_energije(MWh)'].sum()"
   ]
  },
  {
   "cell_type": "markdown",
   "metadata": {},
   "source": [
    "* Total consumption"
   ]
  },
  {
   "cell_type": "code",
   "execution_count": 48,
   "metadata": {},
   "outputs": [
    {
     "data": {
      "text/plain": [
       "247558.33119"
      ]
     },
     "execution_count": 48,
     "metadata": {},
     "output_type": "execute_result"
    }
   ],
   "source": [
    "data.groupby(['energent'])['potrošnja_toplinske_energije(MWh)'].sum().sum()"
   ]
  },
  {
   "cell_type": "markdown",
   "metadata": {},
   "source": [
    "# Electrical energy consumption"
   ]
  },
  {
   "cell_type": "code",
   "execution_count": 49,
   "metadata": {},
   "outputs": [],
   "source": [
    "ele = pd.read_csv('../data/vinkovci_struja_2011.csv')"
   ]
  },
  {
   "cell_type": "code",
   "execution_count": 51,
   "metadata": {},
   "outputs": [],
   "source": [
    "ele['potrošnja_električne_energije(MWh)'] = ele['potrošnja_električne_energije(kWh)'] / 1000"
   ]
  },
  {
   "cell_type": "markdown",
   "metadata": {},
   "source": [
    "* Consumption by category"
   ]
  },
  {
   "cell_type": "code",
   "execution_count": 53,
   "metadata": {},
   "outputs": [
    {
     "data": {
      "text/plain": [
       "kategorija\n",
       "komercijalne I uslužne djelatnosti    27390.000\n",
       "kulturne ustanove                       125.700\n",
       "objekti I uredi gradskih tvrtki          98.861\n",
       "stambeni sektor                       54014.000\n",
       "uprava                                  121.466\n",
       "školstvo                                455.890\n",
       "Name: potrošnja_električne_energije(MWh), dtype: float64"
      ]
     },
     "execution_count": 53,
     "metadata": {},
     "output_type": "execute_result"
    }
   ],
   "source": [
    "ele.groupby('kategorija')['potrošnja_električne_energije(MWh)'].sum()"
   ]
  },
  {
   "cell_type": "markdown",
   "metadata": {},
   "source": [
    "* Total consumption"
   ]
  },
  {
   "cell_type": "code",
   "execution_count": 54,
   "metadata": {},
   "outputs": [
    {
     "data": {
      "text/plain": [
       "82205.917"
      ]
     },
     "execution_count": 54,
     "metadata": {},
     "output_type": "execute_result"
    }
   ],
   "source": [
    "ele.groupby('kategorija')['potrošnja_električne_energije(MWh)'].sum().sum()"
   ]
  },
  {
   "cell_type": "markdown",
   "metadata": {},
   "source": [
    "## Transportation consumption"
   ]
  },
  {
   "cell_type": "code",
   "execution_count": 66,
   "metadata": {},
   "outputs": [],
   "source": [
    "constant = Constants()"
   ]
  },
  {
   "cell_type": "code",
   "execution_count": 56,
   "metadata": {},
   "outputs": [],
   "source": [
    "c_transport = pd.read_csv('../data/gradska_vozila_2011.csv')"
   ]
  },
  {
   "cell_type": "code",
   "execution_count": 72,
   "metadata": {},
   "outputs": [
    {
     "data": {
      "text/plain": [
       "vlasništvo               grad\n",
       "vrsta_goriva            dizel\n",
       "potrošnja_goriva(l)    5767.0\n",
       "Name: 1, dtype: object"
      ]
     },
     "execution_count": 72,
     "metadata": {},
     "output_type": "execute_result"
    }
   ],
   "source": [
    "c_transport.iloc[1]["
   ]
  },
  {
   "cell_type": "code",
   "execution_count": 73,
   "metadata": {},
   "outputs": [],
   "source": [
    "c_transport_kwh_diesel = c_transport.iloc[1]['potrošnja_goriva(l)'] * constant.diesel_litre_to_kwh"
   ]
  },
  {
   "cell_type": "code",
   "execution_count": 74,
   "metadata": {},
   "outputs": [],
   "source": [
    "c_transport_kwh_petrol = c_transport.iloc[0]['potrošnja_goriva(l)'] * constant.petrol_litre_to_kwh"
   ]
  },
  {
   "cell_type": "markdown",
   "metadata": {},
   "source": [
    "* Total MWh for city owned cars"
   ]
  },
  {
   "cell_type": "code",
   "execution_count": 78,
   "metadata": {},
   "outputs": [
    {
     "data": {
      "text/plain": [
       "132.0070008"
      ]
     },
     "execution_count": 78,
     "metadata": {},
     "output_type": "execute_result"
    }
   ],
   "source": [
    "(c_transport_kwh_diesel + c_transport_kwh_petrol) / 1000"
   ]
  },
  {
   "cell_type": "markdown",
   "metadata": {},
   "source": [
    "* Litre consumption for private transport"
   ]
  },
  {
   "cell_type": "code",
   "execution_count": 121,
   "metadata": {},
   "outputs": [],
   "source": [
    "p_transport = pd.read_csv('../data/privatna_vozila_2011.csv')\n",
    "petrol_l = p_transport.loc[p_transport['vrsta_prijevoza'] == 'osobna vozila']['procijenjena_potrošena_masa_benzina(t)'] * constant.petrol_ton_to_litre\n",
    "diesel_l = p_transport.loc[p_transport['vrsta_prijevoza'] == 'osobna vozila']['procijenjena_potrošena_masa_dizela(t)'] * constant.diesel_ton_to_litre\n",
    "lpg = p_transport.loc[p_transport['vrsta_prijevoza'] == 'osobna vozila']['procijenjena_potrošena_masa_unp(t)'] * constant.lpg_ton_to_litre"
   ]
  },
  {
   "cell_type": "code",
   "execution_count": 123,
   "metadata": {},
   "outputs": [
    {
     "data": {
      "text/plain": [
       "(3    3048357.72\n",
       " Name: procijenjena_potrošena_masa_benzina(t), dtype: float64,\n",
       " 3    1231795.5\n",
       " Name: procijenjena_potrošena_masa_dizela(t), dtype: float64,\n",
       " 3    88408.1\n",
       " Name: procijenjena_potrošena_masa_unp(t), dtype: float64)"
      ]
     },
     "execution_count": 123,
     "metadata": {},
     "output_type": "execute_result"
    }
   ],
   "source": [
    "petrol_l, diesel_l, lpg"
   ]
  },
  {
   "cell_type": "markdown",
   "metadata": {},
   "source": [
    "* to MWh"
   ]
  },
  {
   "cell_type": "code",
   "execution_count": 124,
   "metadata": {},
   "outputs": [
    {
     "data": {
      "text/plain": [
       "3    43421.125717\n",
       "dtype: float64"
      ]
     },
     "execution_count": 124,
     "metadata": {},
     "output_type": "execute_result"
    }
   ],
   "source": [
    "((petrol_l * constant.petrol_litre_to_kwh) + (diesel_l * constant.diesel_litre_to_kwh) + (lpg * constant.lpg_litre_to_kwh)) / 1000"
   ]
  },
  {
   "cell_type": "markdown",
   "metadata": {},
   "source": [
    "* Litre consumption for industrial vehicles"
   ]
  },
  {
   "cell_type": "code",
   "execution_count": 107,
   "metadata": {},
   "outputs": [
    {
     "data": {
      "text/html": [
       "<div>\n",
       "<style scoped>\n",
       "    .dataframe tbody tr th:only-of-type {\n",
       "        vertical-align: middle;\n",
       "    }\n",
       "\n",
       "    .dataframe tbody tr th {\n",
       "        vertical-align: top;\n",
       "    }\n",
       "\n",
       "    .dataframe thead th {\n",
       "        text-align: right;\n",
       "    }\n",
       "</style>\n",
       "<table border=\"1\" class=\"dataframe\">\n",
       "  <thead>\n",
       "    <tr style=\"text-align: right;\">\n",
       "      <th></th>\n",
       "      <th>vrsta_prijevoza</th>\n",
       "      <th>broj</th>\n",
       "      <th>procijenjena_potrošena_masa_benzina(t)</th>\n",
       "      <th>procijenjena_potrošena_masa_dizela(t)</th>\n",
       "      <th>procijenjena_potrošena_masa_unp(t)</th>\n",
       "      <th>procijenjena_potrošnja_goriva(kWh)</th>\n",
       "      <th>broj_dizelskih</th>\n",
       "      <th>broj_putničkih_mjesta</th>\n",
       "      <th>potrošnja_dizelskog_goriva(l)</th>\n",
       "      <th>prijeđeni_kilometri</th>\n",
       "      <th>broj_preveznih_putnika</th>\n",
       "    </tr>\n",
       "  </thead>\n",
       "  <tbody>\n",
       "    <tr>\n",
       "      <th>0</th>\n",
       "      <td>autobusni</td>\n",
       "      <td>6</td>\n",
       "      <td>NaN</td>\n",
       "      <td>13.9</td>\n",
       "      <td>NaN</td>\n",
       "      <td>179119.3</td>\n",
       "      <td>6.0</td>\n",
       "      <td>337.0</td>\n",
       "      <td>16343.0</td>\n",
       "      <td>56774.3</td>\n",
       "      <td>24507.0</td>\n",
       "    </tr>\n",
       "    <tr>\n",
       "      <th>1</th>\n",
       "      <td>željeznički</td>\n",
       "      <td>10585</td>\n",
       "      <td>NaN</td>\n",
       "      <td>NaN</td>\n",
       "      <td>NaN</td>\n",
       "      <td>NaN</td>\n",
       "      <td>NaN</td>\n",
       "      <td>NaN</td>\n",
       "      <td>360870.0</td>\n",
       "      <td>400000.0</td>\n",
       "      <td>3000000.0</td>\n",
       "    </tr>\n",
       "    <tr>\n",
       "      <th>2</th>\n",
       "      <td>taxi</td>\n",
       "      <td>1</td>\n",
       "      <td>NaN</td>\n",
       "      <td>NaN</td>\n",
       "      <td>NaN</td>\n",
       "      <td>NaN</td>\n",
       "      <td>1.0</td>\n",
       "      <td>NaN</td>\n",
       "      <td>1850.0</td>\n",
       "      <td>NaN</td>\n",
       "      <td>NaN</td>\n",
       "    </tr>\n",
       "    <tr>\n",
       "      <th>3</th>\n",
       "      <td>osobna vozila</td>\n",
       "      <td>10005</td>\n",
       "      <td>2194.8</td>\n",
       "      <td>1047.0</td>\n",
       "      <td>44.9</td>\n",
       "      <td>40191449.6</td>\n",
       "      <td>NaN</td>\n",
       "      <td>NaN</td>\n",
       "      <td>NaN</td>\n",
       "      <td>NaN</td>\n",
       "      <td>NaN</td>\n",
       "    </tr>\n",
       "    <tr>\n",
       "      <th>4</th>\n",
       "      <td>teretna I radna vozila</td>\n",
       "      <td>2102</td>\n",
       "      <td>108.1</td>\n",
       "      <td>1557.0</td>\n",
       "      <td>NaN</td>\n",
       "      <td>19810355.8</td>\n",
       "      <td>NaN</td>\n",
       "      <td>NaN</td>\n",
       "      <td>NaN</td>\n",
       "      <td>NaN</td>\n",
       "      <td>NaN</td>\n",
       "    </tr>\n",
       "    <tr>\n",
       "      <th>5</th>\n",
       "      <td>mopedi i motocikli</td>\n",
       "      <td>910</td>\n",
       "      <td>53.0</td>\n",
       "      <td>NaN</td>\n",
       "      <td>NaN</td>\n",
       "      <td>657072.6</td>\n",
       "      <td>NaN</td>\n",
       "      <td>NaN</td>\n",
       "      <td>NaN</td>\n",
       "      <td>NaN</td>\n",
       "      <td>NaN</td>\n",
       "    </tr>\n",
       "    <tr>\n",
       "      <th>6</th>\n",
       "      <td>kombinirana vozila</td>\n",
       "      <td>39</td>\n",
       "      <td>NaN</td>\n",
       "      <td>NaN</td>\n",
       "      <td>NaN</td>\n",
       "      <td>NaN</td>\n",
       "      <td>NaN</td>\n",
       "      <td>NaN</td>\n",
       "      <td>NaN</td>\n",
       "      <td>NaN</td>\n",
       "      <td>NaN</td>\n",
       "    </tr>\n",
       "  </tbody>\n",
       "</table>\n",
       "</div>"
      ],
      "text/plain": [
       "          vrsta_prijevoza   broj  procijenjena_potrošena_masa_benzina(t)  \\\n",
       "0               autobusni      6                                     NaN   \n",
       "1             željeznički  10585                                     NaN   \n",
       "2                    taxi      1                                     NaN   \n",
       "3           osobna vozila  10005                                  2194.8   \n",
       "4  teretna I radna vozila   2102                                   108.1   \n",
       "5      mopedi i motocikli    910                                    53.0   \n",
       "6      kombinirana vozila     39                                     NaN   \n",
       "\n",
       "   procijenjena_potrošena_masa_dizela(t)  procijenjena_potrošena_masa_unp(t)  \\\n",
       "0                                   13.9                                 NaN   \n",
       "1                                    NaN                                 NaN   \n",
       "2                                    NaN                                 NaN   \n",
       "3                                 1047.0                                44.9   \n",
       "4                                 1557.0                                 NaN   \n",
       "5                                    NaN                                 NaN   \n",
       "6                                    NaN                                 NaN   \n",
       "\n",
       "   procijenjena_potrošnja_goriva(kWh)  broj_dizelskih  broj_putničkih_mjesta  \\\n",
       "0                            179119.3             6.0                  337.0   \n",
       "1                                 NaN             NaN                    NaN   \n",
       "2                                 NaN             1.0                    NaN   \n",
       "3                          40191449.6             NaN                    NaN   \n",
       "4                          19810355.8             NaN                    NaN   \n",
       "5                            657072.6             NaN                    NaN   \n",
       "6                                 NaN             NaN                    NaN   \n",
       "\n",
       "   potrošnja_dizelskog_goriva(l)  prijeđeni_kilometri  broj_preveznih_putnika  \n",
       "0                        16343.0              56774.3                 24507.0  \n",
       "1                       360870.0             400000.0               3000000.0  \n",
       "2                         1850.0                  NaN                     NaN  \n",
       "3                            NaN                  NaN                     NaN  \n",
       "4                            NaN                  NaN                     NaN  \n",
       "5                            NaN                  NaN                     NaN  \n",
       "6                            NaN                  NaN                     NaN  "
      ]
     },
     "execution_count": 107,
     "metadata": {},
     "output_type": "execute_result"
    }
   ],
   "source": [
    "p_transport"
   ]
  },
  {
   "cell_type": "code",
   "execution_count": 108,
   "metadata": {},
   "outputs": [],
   "source": [
    "petrol_l = p_transport.loc[p_transport['vrsta_prijevoza'] == 'teretna I radna vozila']['procijenjena_potrošena_masa_benzina(t)'] * constant.petrol_ton_to_litre\n",
    "diesel_l = p_transport.loc[p_transport['vrsta_prijevoza'] == 'teretna I radna vozila']['procijenjena_potrošena_masa_dizela(t)'] * constant.diesel_ton_to_litre"
   ]
  },
  {
   "cell_type": "code",
   "execution_count": 109,
   "metadata": {},
   "outputs": [
    {
     "data": {
      "text/plain": [
       "(4    150140.09\n",
       " Name: procijenjena_potrošena_masa_benzina(t), dtype: float64,\n",
       " 4    1831810.5\n",
       " Name: procijenjena_potrošena_masa_dizela(t), dtype: float64)"
      ]
     },
     "execution_count": 109,
     "metadata": {},
     "output_type": "execute_result"
    }
   ],
   "source": [
    "petrol_l, diesel_l"
   ]
  },
  {
   "cell_type": "code",
   "execution_count": 110,
   "metadata": {},
   "outputs": [
    {
     "data": {
      "text/plain": [
       "4    21519.489345\n",
       "dtype: float64"
      ]
     },
     "execution_count": 110,
     "metadata": {},
     "output_type": "execute_result"
    }
   ],
   "source": [
    "((petrol_l * constant.petrol_litre_to_kwh) + (diesel_l * constant.diesel_litre_to_kwh)) / 1000"
   ]
  },
  {
   "cell_type": "markdown",
   "metadata": {},
   "source": [
    "* Bikes"
   ]
  },
  {
   "cell_type": "code",
   "execution_count": 111,
   "metadata": {},
   "outputs": [],
   "source": [
    "petrol_l = p_transport.loc[p_transport['vrsta_prijevoza'] == 'mopedi i motocikli']['procijenjena_potrošena_masa_benzina(t)'] * constant.petrol_ton_to_litre\n",
    "diesel_l = p_transport.loc[p_transport['vrsta_prijevoza'] == 'mopedi i motocikli']['procijenjena_potrošena_masa_dizela(t)'] * constant.diesel_ton_to_litre"
   ]
  },
  {
   "cell_type": "code",
   "execution_count": 112,
   "metadata": {},
   "outputs": [
    {
     "data": {
      "text/plain": [
       "(5    73611.7\n",
       " Name: procijenjena_potrošena_masa_benzina(t), dtype: float64,\n",
       " 5   NaN\n",
       " Name: procijenjena_potrošena_masa_dizela(t), dtype: float64)"
      ]
     },
     "execution_count": 112,
     "metadata": {},
     "output_type": "execute_result"
    }
   ],
   "source": [
    "petrol_l, diesel_l"
   ]
  },
  {
   "cell_type": "code",
   "execution_count": 115,
   "metadata": {},
   "outputs": [
    {
     "data": {
      "text/plain": [
       "5    707.408437\n",
       "Name: procijenjena_potrošena_masa_benzina(t), dtype: float64"
      ]
     },
     "execution_count": 115,
     "metadata": {},
     "output_type": "execute_result"
    }
   ],
   "source": [
    "(petrol_l * constant.petrol_litre_to_kwh) / 1000"
   ]
  },
  {
   "cell_type": "markdown",
   "metadata": {},
   "source": [
    "* Bus"
   ]
  },
  {
   "cell_type": "code",
   "execution_count": 118,
   "metadata": {},
   "outputs": [
    {
     "data": {
      "text/plain": [
       "179119.28000000003"
      ]
     },
     "execution_count": 118,
     "metadata": {},
     "output_type": "execute_result"
    }
   ],
   "source": [
    "p_transport.loc[p_transport['vrsta_prijevoza'] == 'autobusni']['potrošnja_dizelskog_goriva(l)'][0] * constant.diesel_litre_to_kwh"
   ]
  },
  {
   "cell_type": "markdown",
   "metadata": {},
   "source": [
    "* taxi"
   ]
  },
  {
   "cell_type": "code",
   "execution_count": 120,
   "metadata": {},
   "outputs": [
    {
     "data": {
      "text/plain": [
       "2    20276.0\n",
       "Name: potrošnja_dizelskog_goriva(l), dtype: float64"
      ]
     },
     "execution_count": 120,
     "metadata": {},
     "output_type": "execute_result"
    }
   ],
   "source": [
    "p_transport.loc[p_transport['vrsta_prijevoza'] == 'taxi']['potrošnja_dizelskog_goriva(l)'] * constant.diesel_litre_to_kwh"
   ]
  },
  {
   "cell_type": "markdown",
   "metadata": {},
   "source": [
    "## Energy charts"
   ]
  },
  {
   "cell_type": "code",
   "execution_count": 125,
   "metadata": {},
   "outputs": [],
   "source": [
    "charts = Energy2011()"
   ]
  },
  {
   "cell_type": "code",
   "execution_count": 49,
   "metadata": {},
   "outputs": [
    {
     "name": "stderr",
     "output_type": "stream",
     "text": [
      "/home/dionizije/Documents/vk_secap/src/energy_consumption.py:32: FutureWarning: The default value of numeric_only in DataFrameGroupBy.sum is deprecated. In a future version, numeric_only will default to False. Either specify numeric_only or select only columns which should be valid for the function.\n",
      "  chart = plt.pie(\n"
     ]
    },
    {
     "data": {
      "image/png": "[encoded data removed]",
      "text/plain": [
       "<Figure size 640x480 with 1 Axes>"
      ]
     },
     "metadata": {},
     "output_type": "display_data"
    }
   ],
   "source": [
    "toplina_izvor = charts.heat_by_source()"
   ]
  },
  {
   "cell_type": "code",
   "execution_count": 50,
   "metadata": {},
   "outputs": [
    {
     "name": "stderr",
     "output_type": "stream",
     "text": [
      "/home/dionizije/Documents/vk_secap/src/energy_consumption.py:56: FutureWarning: The default value of numeric_only in DataFrameGroupBy.sum is deprecated. In a future version, numeric_only will default to False. Either specify numeric_only or select only columns which should be valid for the function.\n",
      "  chart = plt.pie(\n"
     ]
    },
    {
     "data": {
      "image/png": "[encoded data removed]",
      "text/plain": [
       "<Figure size 640x480 with 1 Axes>"
      ]
     },
     "metadata": {},
     "output_type": "display_data"
    }
   ],
   "source": [
    "toplina_sektor = charts.energy_by_sector('heat')"
   ]
  },
  {
   "cell_type": "code",
   "execution_count": 51,
   "metadata": {},
   "outputs": [
    {
     "name": "stderr",
     "output_type": "stream",
     "text": [
      "/home/dionizije/Documents/vk_secap/src/energy_consumption.py:56: FutureWarning: The default value of numeric_only in DataFrameGroupBy.sum is deprecated. In a future version, numeric_only will default to False. Either specify numeric_only or select only columns which should be valid for the function.\n",
      "  chart = plt.pie(\n"
     ]
    },
    {
     "data": {
      "image/png": "[encoded data removed]",
      "text/plain": [
       "<Figure size 640x480 with 1 Axes>"
      ]
     },
     "metadata": {},
     "output_type": "display_data"
    }
   ],
   "source": [
    "struja_sektor = charts.energy_by_sector('electricity')"
   ]
  },
  {
   "cell_type": "code",
   "execution_count": 150,
   "metadata": {},
   "outputs": [
    {
     "data": {
      "image/png": "[encoded data removed]",
      "text/plain": [
       "<Figure size 640x480 with 1 Axes>"
      ]
     },
     "metadata": {},
     "output_type": "display_data"
    }
   ],
   "source": [
    "gas_by_type = charts.gas_by_type()"
   ]
  },
  {
   "cell_type": "code",
   "execution_count": 149,
   "metadata": {},
   "outputs": [
    {
     "data": {
      "image/png": "[encoded data removed]",
      "text/plain": [
       "<Figure size 640x480 with 1 Axes>"
      ]
     },
     "metadata": {},
     "output_type": "display_data"
    }
   ],
   "source": [
    "gas_by_category = charts.gas_by_category()"
   ]
  }
 ],
 "metadata": {
  "kernelspec": {
   "display_name": "secap",
   "language": "python",
   "name": "secap"
  },
  "language_info": {
   "codemirror_mode": {
    "name": "ipython",
    "version": 3
   },
   "file_extension": ".py",
   "mimetype": "text/x-python",
   "name": "python",
   "nbconvert_exporter": "python",
   "pygments_lexer": "ipython3",
   "version": "3.10.11"
  }
 },
 "nbformat": 4,
 "nbformat_minor": 4
}
