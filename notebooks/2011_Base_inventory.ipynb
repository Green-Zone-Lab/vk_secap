{
 "cells": [
  {
   "cell_type": "code",
   "execution_count": 2,
   "metadata": {},
   "outputs": [],
   "source": [
    "%load_ext autoreload"
   ]
  },
  {
   "cell_type": "code",
   "execution_count": 3,
   "metadata": {},
   "outputs": [],
   "source": [
    "%autoreload 2"
   ]
  },
  {
   "cell_type": "code",
   "execution_count": 61,
   "metadata": {
    "tags": []
   },
   "outputs": [],
   "source": [
    "import pandas as pd\n",
    "import seaborn as sns\n",
    "import os\n",
    "import matplotlib.pyplot as plt\n",
    "import sys\n",
    "module_path = os.path.abspath(os.path.join('..'))\n",
    "if module_path not in sys.path:\n",
    "    sys.path.append(module_path)\n",
    "from src.energy_consumption import Energy2011\n",
    "from src.Constants import Constants\n",
    "sns.set_theme(style=\"ticks\")"
   ]
  },
  {
   "cell_type": "markdown",
   "metadata": {
    "tags": []
   },
   "source": [
    "# 1. Energy consumption in buildings"
   ]
  },
  {
   "cell_type": "code",
   "execution_count": 39,
   "metadata": {},
   "outputs": [],
   "source": [
    "trans = pd.read_csv('../data/privatna_vozila_2011.csv')\n",
    "heat = pd.read_csv('../data/vinkovci_grijanje_2011.csv')\n",
    "ele = pd.read_csv('../data/vinkovci_struja_2011.csv')"
   ]
  },
  {
   "cell_type": "code",
   "execution_count": 38,
   "metadata": {},
   "outputs": [],
   "source": [
    "charts = Energy2011()"
   ]
  },
  {
   "cell_type": "code",
   "execution_count": 45,
   "metadata": {},
   "outputs": [
    {
     "data": {
      "text/plain": [
       "<pandas.core.groupby.generic.SeriesGroupBy object at 0x7f970b5d8280>"
      ]
     },
     "execution_count": 45,
     "metadata": {},
     "output_type": "execute_result"
    }
   ],
   "source": [
    "heat.groupby('kategorija')['potrošnja_energije(kWh)']"
   ]
  },
  {
   "cell_type": "code",
   "execution_count": 41,
   "metadata": {},
   "outputs": [],
   "source": [
    "pivoted = heat.pivot_table(\n",
    "    index=['nadkategorija', 'kategorija', 'broj zgrada', 'ukupna_grijana_površina', \n",
    "           'specifična_potrošnja_energije(kWh/m2)'],\n",
    "    columns='energent', \n",
    "    values='potrošnja_energije(kWh)',\n",
    "    aggfunc='sum',\n",
    "    fill_value=0\n",
    ").reset_index()"
   ]
  },
  {
   "cell_type": "code",
   "execution_count": 49,
   "metadata": {},
   "outputs": [
    {
     "name": "stderr",
     "output_type": "stream",
     "text": [
      "/home/dionizije/Documents/vk_secap/src/energy_consumption.py:32: FutureWarning: The default value of numeric_only in DataFrameGroupBy.sum is deprecated. In a future version, numeric_only will default to False. Either specify numeric_only or select only columns which should be valid for the function.\n",
      "  chart = plt.pie(\n"
     ]
    },
    {
     "data": {
      "image/png": "[encoded data removed]",
      "text/plain": [
       "<Figure size 640x480 with 1 Axes>"
      ]
     },
     "metadata": {},
     "output_type": "display_data"
    }
   ],
   "source": [
    "toplina_izvor = charts.heat_by_source()\n",
    "toplina_sektor = charts.energy_by_sector('heat')\n",
    "struja_sektor = charts.energy_by_sector('electricity')\n",
    "gas_by_type = charts.gas_by_type()\n",
    "gas_by_category = charts.gas_by_category()\n",
    "illumination = charts.illumination()"
   ]
  },
  {
   "cell_type": "code",
   "execution_count": 65,
   "metadata": {},
   "outputs": [],
   "source": [
    "sns.set_theme()"
   ]
  },
  {
   "cell_type": "code",
   "execution_count": 132,
   "metadata": {},
   "outputs": [
    {
     "data": {
      "text/html": [
       "<div>\n",
       "<style scoped>\n",
       "    .dataframe tbody tr th:only-of-type {\n",
       "        vertical-align: middle;\n",
       "    }\n",
       "\n",
       "    .dataframe tbody tr th {\n",
       "        vertical-align: top;\n",
       "    }\n",
       "\n",
       "    .dataframe thead th {\n",
       "        text-align: right;\n",
       "    }\n",
       "</style>\n",
       "<table border=\"1\" class=\"dataframe\">\n",
       "  <thead>\n",
       "    <tr style=\"text-align: right;\">\n",
       "      <th></th>\n",
       "      <th>nadkategorija</th>\n",
       "      <th>kategorija</th>\n",
       "      <th>broj zgrada</th>\n",
       "      <th>energent</th>\n",
       "      <th>ukupna_grijana_površina</th>\n",
       "      <th>potrošnja_energije(kWh)</th>\n",
       "      <th>specifična_potrošnja_energije(kWh/m2)</th>\n",
       "    </tr>\n",
       "  </thead>\n",
       "  <tbody>\n",
       "    <tr>\n",
       "      <th>0</th>\n",
       "      <td>zgrade javne namjene</td>\n",
       "      <td>školstvo</td>\n",
       "      <td>14</td>\n",
       "      <td>prirodni plin</td>\n",
       "      <td>23399.36</td>\n",
       "      <td>3219444.26</td>\n",
       "      <td>137.59</td>\n",
       "    </tr>\n",
       "    <tr>\n",
       "      <th>1</th>\n",
       "      <td>zgrade javne namjene</td>\n",
       "      <td>školstvo</td>\n",
       "      <td>14</td>\n",
       "      <td>lož ulje</td>\n",
       "      <td>107.50</td>\n",
       "      <td>15304.42</td>\n",
       "      <td>142.37</td>\n",
       "    </tr>\n",
       "    <tr>\n",
       "      <th>2</th>\n",
       "      <td>zgrade javne namjene</td>\n",
       "      <td>uprava</td>\n",
       "      <td>15</td>\n",
       "      <td>prirodni plin</td>\n",
       "      <td>4123.35</td>\n",
       "      <td>593800.58</td>\n",
       "      <td>144.01</td>\n",
       "    </tr>\n",
       "    <tr>\n",
       "      <th>3</th>\n",
       "      <td>zgrade javne namjene</td>\n",
       "      <td>uprava</td>\n",
       "      <td>15</td>\n",
       "      <td>električna energija</td>\n",
       "      <td>210.00</td>\n",
       "      <td>37800.00</td>\n",
       "      <td>180.00</td>\n",
       "    </tr>\n",
       "    <tr>\n",
       "      <th>4</th>\n",
       "      <td>zgrade javne namjene</td>\n",
       "      <td>kulturne ustanove</td>\n",
       "      <td>8</td>\n",
       "      <td>prirodni plin</td>\n",
       "      <td>5809.25</td>\n",
       "      <td>657677.56</td>\n",
       "      <td>113.21</td>\n",
       "    </tr>\n",
       "    <tr>\n",
       "      <th>5</th>\n",
       "      <td>zgrade javne namjene</td>\n",
       "      <td>kulturne ustanove</td>\n",
       "      <td>8</td>\n",
       "      <td>lož ulje</td>\n",
       "      <td>812.00</td>\n",
       "      <td>63258.26</td>\n",
       "      <td>77.90</td>\n",
       "    </tr>\n",
       "    <tr>\n",
       "      <th>6</th>\n",
       "      <td>zgrade javne namjene</td>\n",
       "      <td>objekti i uredi gradskih tvrtki</td>\n",
       "      <td>6</td>\n",
       "      <td>prirodni plin</td>\n",
       "      <td>3629.20</td>\n",
       "      <td>473136.97</td>\n",
       "      <td>130.37</td>\n",
       "    </tr>\n",
       "    <tr>\n",
       "      <th>7</th>\n",
       "      <td>stambeni objekti</td>\n",
       "      <td>stambeni sektor</td>\n",
       "      <td>13326</td>\n",
       "      <td>prirodni plin</td>\n",
       "      <td>595855.00</td>\n",
       "      <td>85563071.34</td>\n",
       "      <td>143.60</td>\n",
       "    </tr>\n",
       "    <tr>\n",
       "      <th>8</th>\n",
       "      <td>stambeni objekti</td>\n",
       "      <td>stambeni sektor</td>\n",
       "      <td>13326</td>\n",
       "      <td>lož ulje</td>\n",
       "      <td>32000.00</td>\n",
       "      <td>5760003.51</td>\n",
       "      <td>180.00</td>\n",
       "    </tr>\n",
       "    <tr>\n",
       "      <th>9</th>\n",
       "      <td>stambeni objekti</td>\n",
       "      <td>stambeni sektor</td>\n",
       "      <td>13326</td>\n",
       "      <td>ogrjevno drvo</td>\n",
       "      <td>229171.00</td>\n",
       "      <td>41250808.53</td>\n",
       "      <td>180.00</td>\n",
       "    </tr>\n",
       "    <tr>\n",
       "      <th>10</th>\n",
       "      <td>stambeni objekti</td>\n",
       "      <td>stambeni sektor</td>\n",
       "      <td>13326</td>\n",
       "      <td>električna energija</td>\n",
       "      <td>82348.00</td>\n",
       "      <td>15646120.00</td>\n",
       "      <td>190.00</td>\n",
       "    </tr>\n",
       "    <tr>\n",
       "      <th>11</th>\n",
       "      <td>zgrade komercijalnog i uslužnog karaktera</td>\n",
       "      <td>komercijalne i uslužne djelatnosti</td>\n",
       "      <td>397</td>\n",
       "      <td>prirodni plin</td>\n",
       "      <td>538085.00</td>\n",
       "      <td>62307560.56</td>\n",
       "      <td>116.00</td>\n",
       "    </tr>\n",
       "    <tr>\n",
       "      <th>12</th>\n",
       "      <td>zgrade komercijalnog i uslužnog karaktera</td>\n",
       "      <td>komercijalne i uslužne djelatnosti</td>\n",
       "      <td>397</td>\n",
       "      <td>lož ulje</td>\n",
       "      <td>35785.00</td>\n",
       "      <td>6441282.00</td>\n",
       "      <td>180.00</td>\n",
       "    </tr>\n",
       "    <tr>\n",
       "      <th>13</th>\n",
       "      <td>zgrade komercijalnog i uslužnog karaktera</td>\n",
       "      <td>komercijalne i uslužne djelatnosti</td>\n",
       "      <td>397</td>\n",
       "      <td>ogrjevno drvo</td>\n",
       "      <td>128826.00</td>\n",
       "      <td>23188615.20</td>\n",
       "      <td>180.00</td>\n",
       "    </tr>\n",
       "    <tr>\n",
       "      <th>14</th>\n",
       "      <td>zgrade komercijalnog i uslužnog karaktera</td>\n",
       "      <td>komercijalne i uslužne djelatnosti</td>\n",
       "      <td>397</td>\n",
       "      <td>električna energija</td>\n",
       "      <td>13002.00</td>\n",
       "      <td>2340448.00</td>\n",
       "      <td>180.00</td>\n",
       "    </tr>\n",
       "  </tbody>\n",
       "</table>\n",
       "</div>"
      ],
      "text/plain": [
       "                                nadkategorija  \\\n",
       "0                        zgrade javne namjene   \n",
       "1                        zgrade javne namjene   \n",
       "2                        zgrade javne namjene   \n",
       "3                        zgrade javne namjene   \n",
       "4                        zgrade javne namjene   \n",
       "5                        zgrade javne namjene   \n",
       "6                        zgrade javne namjene   \n",
       "7                            stambeni objekti   \n",
       "8                            stambeni objekti   \n",
       "9                            stambeni objekti   \n",
       "10                           stambeni objekti   \n",
       "11  zgrade komercijalnog i uslužnog karaktera   \n",
       "12  zgrade komercijalnog i uslužnog karaktera   \n",
       "13  zgrade komercijalnog i uslužnog karaktera   \n",
       "14  zgrade komercijalnog i uslužnog karaktera   \n",
       "\n",
       "                            kategorija  broj zgrada             energent  \\\n",
       "0                             školstvo           14        prirodni plin   \n",
       "1                             školstvo           14             lož ulje   \n",
       "2                               uprava           15        prirodni plin   \n",
       "3                               uprava           15  električna energija   \n",
       "4                    kulturne ustanove            8        prirodni plin   \n",
       "5                    kulturne ustanove            8             lož ulje   \n",
       "6      objekti i uredi gradskih tvrtki            6        prirodni plin   \n",
       "7                      stambeni sektor        13326        prirodni plin   \n",
       "8                      stambeni sektor        13326             lož ulje   \n",
       "9                      stambeni sektor        13326        ogrjevno drvo   \n",
       "10                     stambeni sektor        13326  električna energija   \n",
       "11  komercijalne i uslužne djelatnosti          397        prirodni plin   \n",
       "12  komercijalne i uslužne djelatnosti          397             lož ulje   \n",
       "13  komercijalne i uslužne djelatnosti          397        ogrjevno drvo   \n",
       "14  komercijalne i uslužne djelatnosti          397  električna energija   \n",
       "\n",
       "    ukupna_grijana_površina  potrošnja_energije(kWh)  \\\n",
       "0                  23399.36               3219444.26   \n",
       "1                    107.50                 15304.42   \n",
       "2                   4123.35                593800.58   \n",
       "3                    210.00                 37800.00   \n",
       "4                   5809.25                657677.56   \n",
       "5                    812.00                 63258.26   \n",
       "6                   3629.20                473136.97   \n",
       "7                 595855.00              85563071.34   \n",
       "8                  32000.00               5760003.51   \n",
       "9                 229171.00              41250808.53   \n",
       "10                 82348.00              15646120.00   \n",
       "11                538085.00              62307560.56   \n",
       "12                 35785.00               6441282.00   \n",
       "13                128826.00              23188615.20   \n",
       "14                 13002.00               2340448.00   \n",
       "\n",
       "    specifična_potrošnja_energije(kWh/m2)  \n",
       "0                                  137.59  \n",
       "1                                  142.37  \n",
       "2                                  144.01  \n",
       "3                                  180.00  \n",
       "4                                  113.21  \n",
       "5                                   77.90  \n",
       "6                                  130.37  \n",
       "7                                  143.60  \n",
       "8                                  180.00  \n",
       "9                                  180.00  \n",
       "10                                 190.00  \n",
       "11                                 116.00  \n",
       "12                                 180.00  \n",
       "13                                 180.00  \n",
       "14                                 180.00  "
      ]
     },
     "execution_count": 132,
     "metadata": {},
     "output_type": "execute_result"
    }
   ],
   "source": [
    "heat"
   ]
  },
  {
   "cell_type": "code",
   "execution_count": 150,
   "metadata": {},
   "outputs": [
    {
     "ename": "NameError",
     "evalue": "name 'data' is not defined",
     "output_type": "error",
     "traceback": [
      "\u001b[0;31m---------------------------------------------------------------------------\u001b[0m",
      "\u001b[0;31mNameError\u001b[0m                                 Traceback (most recent call last)",
      "Cell \u001b[0;32mIn[150], line 1\u001b[0m\n\u001b[0;32m----> 1\u001b[0m df \u001b[38;5;241m=\u001b[39m pd\u001b[38;5;241m.\u001b[39mDataFrame(\u001b[43mdata\u001b[49m)\n\u001b[1;32m      3\u001b[0m \u001b[38;5;66;03m# Pivot the data to get categories in rows and energents as columns\u001b[39;00m\n\u001b[1;32m      4\u001b[0m df_pivot \u001b[38;5;241m=\u001b[39m df\u001b[38;5;241m.\u001b[39mpivot(index\u001b[38;5;241m=\u001b[39m\u001b[38;5;124m'\u001b[39m\u001b[38;5;124mkategorija\u001b[39m\u001b[38;5;124m'\u001b[39m, columns\u001b[38;5;241m=\u001b[39m\u001b[38;5;124m'\u001b[39m\u001b[38;5;124menergent\u001b[39m\u001b[38;5;124m'\u001b[39m, values\u001b[38;5;241m=\u001b[39m\u001b[38;5;124m'\u001b[39m\u001b[38;5;124mpotrošnja_energije(kWh)\u001b[39m\u001b[38;5;124m'\u001b[39m)\u001b[38;5;241m.\u001b[39mfillna(\u001b[38;5;241m0\u001b[39m)\n",
      "\u001b[0;31mNameError\u001b[0m: name 'data' is not defined"
     ]
    }
   ],
   "source": [
    "df = pd.DataFrame(data)\n",
    "\n",
    "# Pivot the data to get categories in rows and energents as columns\n",
    "df_pivot = df.pivot(index='kategorija', columns='energent', values='potrošnja_energije(kWh)').fillna(0)\n",
    "\n",
    "# Reorder columns to ensure correct hues\n",
    "order = ['prirodni plin', 'lož ulje', 'ogrjevno drvo', 'električna energija']\n",
    "df_pivot = df_pivot[order]\n",
    "\n",
    "# Sort by total consumption\n",
    "df_pivot['Total'] = df_pivot.sum(axis=1)\n",
    "df_pivot = df_pivot.sort_values(by='Total', ascending=True).drop(columns=['Total'])\n",
    "\n",
    "# Plot\n",
    "ax = df_pivot.plot(kind='barh', stacked=True, figsize=(12, 6), logx=True, width=0.5)\n",
    "ax.set_xlabel('Potrošnja Energije (kWh) - Log Scale')\n",
    "ax.set_title('Potrošnja Energije by Kategorija and Energent')\n",
    "plt.xticks(fontsize=8)\n",
    "plt.yticks(fontsize=8)\n",
    "plt.tight_layout()\n",
    "plt.show()"
   ]
  }
 ],
 "metadata": {
  "kernelspec": {
   "display_name": "secap",
   "language": "python",
   "name": "secap"
  },
  "language_info": {
   "codemirror_mode": {
    "name": "ipython",
    "version": 3
   },
   "file_extension": ".py",
   "mimetype": "text/x-python",
   "name": "python",
   "nbconvert_exporter": "python",
   "pygments_lexer": "ipython3",
   "version": "3.10.11"
  }
 },
 "nbformat": 4,
 "nbformat_minor": 4
}
