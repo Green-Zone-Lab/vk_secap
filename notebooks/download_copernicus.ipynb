{
 "cells": [
  {
   "cell_type": "code",
   "execution_count": 26,
   "id": "ca657208-73da-48f5-91de-67d3bdb2c7ba",
   "metadata": {},
   "outputs": [],
   "source": [
    "import cdsapi"
   ]
  },
  {
   "cell_type": "code",
   "execution_count": 28,
   "id": "8342d74a-0dae-4242-9dae-69b7fd7a9fd6",
   "metadata": {},
   "outputs": [],
   "source": [
    "c = cdsapi.Client()"
   ]
  },
  {
   "cell_type": "code",
   "execution_count": 31,
   "id": "169ca1bb-b0d1-4a54-9a87-7ba5a670a8c9",
   "metadata": {},
   "outputs": [
    {
     "name": "stderr",
     "output_type": "stream",
     "text": [
      "2023-08-22 22:55:29,243 INFO Welcome to the CDS\n",
      "2023-08-22 22:55:29,244 INFO Sending request to https://cds.climate.copernicus.eu/api/v2/resources/sis-agroclimatic-indicators\n",
      "2023-08-22 22:55:29,323 INFO Request is queued\n",
      "2023-08-22 22:55:30,379 INFO Request is running\n",
      "2023-08-22 22:55:31,935 INFO Request is completed\n",
      "2023-08-22 22:55:31,937 INFO Downloading https://download-0020.copernicus-climate.eu/cache-compute-0020/cache/data6/dataset-sis-agroclimatic-indicators-47ad4037-ada9-4243-b5b2-a7f33f422b9b.zip to download_future_seasonal.zip (21.7M)\n",
      "2023-08-22 22:55:37,741 INFO Download rate 3.7M/s                               \n"
     ]
    },
    {
     "data": {
      "text/plain": [
       "Result(content_length=22716518,content_type=application/zip,location=https://download-0020.copernicus-climate.eu/cache-compute-0020/cache/data6/dataset-sis-agroclimatic-indicators-47ad4037-ada9-4243-b5b2-a7f33f422b9b.zip)"
      ]
     },
     "execution_count": 31,
     "metadata": {},
     "output_type": "execute_result"
    }
   ],
   "source": [
    "c.retrieve(\n",
    "    'sis-agroclimatic-indicators',\n",
    "    {\n",
    "        'format': 'zip',\n",
    "        'origin': 'ipsl_cm5a_lr_model',\n",
    "        'variable': [\n",
    "            'mean_of_daily_mean_temperature', 'precipitation_sum', 'summer_days',\n",
    "            'tropical_nights', 'very_heavy_precipitation_days',\n",
    "        ],\n",
    "        'experiment': 'historical',\n",
    "        'temporal_aggregation': '10_day',\n",
    "        'period': [\n",
    "            '195101_198012', '198101_201012',\n",
    "        ],\n",
    "        'version': '1.1',\n",
    "    },\n",
    "    'download_historical_10day.zip')\n",
    "\n",
    "c.retrieve(\n",
    "    'sis-agroclimatic-indicators',\n",
    "    {\n",
    "        'format': 'zip',\n",
    "        'origin': 'ipsl_cm5a_lr_model',\n",
    "        'variable': [\n",
    "            'maximum_number_of_consecutive_dry_days', 'maximum_number_of_consecutive_summer_days',\n",
    "        ],\n",
    "        'experiment': 'historical',\n",
    "        'temporal_aggregation': 'season',\n",
    "        'period': [\n",
    "            '195101_198012', '198101_201012',\n",
    "        ],\n",
    "        'version': '1.1',\n",
    "    },\n",
    "    'download_historical_seasonal.zip')\n",
    "\n",
    "c.retrieve(\n",
    "    'sis-agroclimatic-indicators',\n",
    "    {\n",
    "        'format': 'zip',\n",
    "        'origin': 'ipsl_cm5a_lr_model',\n",
    "        'variable': [\n",
    "            'mean_of_daily_mean_temperature', 'precipitation_sum', 'summer_days',\n",
    "            'tropical_nights', 'very_heavy_precipitation_days',\n",
    "        ],\n",
    "        'experiment': 'rcp4_5',\n",
    "        'temporal_aggregation': '10_day',\n",
    "        'period': [\n",
    "            '201101_204012', '204101_207012',\n",
    "        ],\n",
    "        'version': '1.1',\n",
    "    },\n",
    "    'download_future_10day.zip')\n",
    "\n",
    "c.retrieve(\n",
    "    'sis-agroclimatic-indicators',\n",
    "    {\n",
    "        'format': 'zip',\n",
    "        'origin': 'ipsl_cm5a_lr_model',\n",
    "        'variable': [\n",
    "            'maximum_number_of_consecutive_dry_days', 'maximum_number_of_consecutive_summer_days',\n",
    "        ],\n",
    "        'experiment': 'rcp4_5',\n",
    "        'temporal_aggregation': 'season',\n",
    "        'period': [\n",
    "            '201101_204012', '204101_207012',\n",
    "        ],\n",
    "        'version': '1.1',\n",
    "    },\n",
    "    'download_future_seasonal.zip')"
   ]
  }
 ],
 "metadata": {
  "kernelspec": {
   "display_name": "secap",
   "language": "python",
   "name": "secap"
  },
  "language_info": {
   "codemirror_mode": {
    "name": "ipython",
    "version": 3
   },
   "file_extension": ".py",
   "mimetype": "text/x-python",
   "name": "python",
   "nbconvert_exporter": "python",
   "pygments_lexer": "ipython3",
   "version": "3.10.11"
  }
 },
 "nbformat": 4,
 "nbformat_minor": 5
}
