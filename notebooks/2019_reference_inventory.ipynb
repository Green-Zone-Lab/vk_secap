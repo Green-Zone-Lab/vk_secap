{
 "cells": [
  {
   "cell_type": "code",
   "execution_count": null,
   "id": "6c4f21c1-5403-432e-9c23-09b645b96b23",
   "metadata": {},
   "outputs": [],
   "source": []
  }
 ],
 "metadata": {
  "kernelspec": {
   "display_name": "secap",
   "language": "python",
   "name": "secap"
  },
  "language_info": {
   "codemirror_mode": {
    "name": "ipython",
    "version": 3
   },
   "file_extension": ".py",
   "mimetype": "text/x-python",
   "name": "python",
   "nbconvert_exporter": "python",
   "pygments_lexer": "ipython3",
   "version": "3.10.11"
  }
 },
 "nbformat": 4,
 "nbformat_minor": 5
}
