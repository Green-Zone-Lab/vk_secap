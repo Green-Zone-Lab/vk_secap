{
 "cells": [
  {
   "cell_type": "code",
   "execution_count": 4,
   "id": "55aa0970-2a8d-48c5-b0d1-a29786a8cacf",
   "metadata": {},
   "outputs": [],
   "source": [
    "from geopy.distance import geodesic\n",
    "import xarray as xr\n",
    "import numpy as np\n",
    "import dask\n",
    "import pandas as pd\n",
    "from pathlib import Path"
   ]
  },
  {
   "cell_type": "code",
   "execution_count": 2,
   "id": "05225054-584e-4da5-ad98-b4706902a6a6",
   "metadata": {},
   "outputs": [
    {
     "data": {
      "text/plain": [
       "<dask.config.set at 0x7efcf7aefd90>"
      ]
     },
     "execution_count": 2,
     "metadata": {},
     "output_type": "execute_result"
    }
   ],
   "source": [
    "dask.config.set({'scheduler.default': 'threads', 'pool': dask.threaded.get, 'num_workers': 4})"
   ]
  },
  {
   "cell_type": "markdown",
   "id": "c37be2f6-60fd-4106-a33c-d2ec235f7f1d",
   "metadata": {},
   "source": [
    "# Seasonal folder"
   ]
  },
  {
   "cell_type": "code",
   "execution_count": 5,
   "id": "c475131e-c22a-480c-9e0a-fa575d39fee8",
   "metadata": {},
   "outputs": [],
   "source": [
    "path = Path('../data/copernicus/seasonal_vars/')\n",
    "target_lat = 45.287865\n",
    "target_lon = 18.802666\n",
    "\n",
    "dataframes = {\n",
    "    'CDD_C3S': [],\n",
    "    'CSU_C3S': []\n",
    "}"
   ]
  },
  {
   "cell_type": "code",
   "execution_count": 6,
   "id": "10c53d48-8014-4917-be86-8174851aeb0a",
   "metadata": {},
   "outputs": [],
   "source": [
    "for file in path.glob('*.nc'):  # assuming they are all .nc files\n",
    "    # Check if the filename starts with 'CDD_C3S'\n",
    "    if file.name.startswith('CDD_C3S'):\n",
    "        ds = xr.open_dataset(file)\n",
    "        nearest_data = ds.sel(lat=target_lat, lon=target_lon, method='nearest')\n",
    "        df = nearest_data.to_dataframe().reset_index(level='bounds', drop=True)\n",
    "        dataframes['CDD_C3S'].append(df)\n",
    "    # Check if the filename starts with 'CSU_C3S'\n",
    "    elif file.name.startswith('CSU_C3S'):\n",
    "        ds = xr.open_dataset(file)\n",
    "        nearest_data = ds.sel(lat=target_lat, lon=target_lon, method='nearest')\n",
    "        df = nearest_data.to_dataframe().reset_index(level='bounds', drop=True)\n",
    "        dataframes['CSU_C3S'].append(df)"
   ]
  },
  {
   "cell_type": "code",
   "execution_count": 7,
   "id": "2a069509-602a-4875-9701-9c129d1bc02f",
   "metadata": {},
   "outputs": [],
   "source": [
    "result_CDD = pd.concat(dataframes['CDD_C3S'])\n",
    "result_CSU = pd.concat(dataframes['CSU_C3S'])\n",
    "result_CDD = result_CDD.sort_index()\n",
    "result_CSU = result_CSU.sort_index()"
   ]
  },
  {
   "cell_type": "code",
   "execution_count": 14,
   "id": "5231e4b1-6ad7-4fd5-aa3b-c4f22b4a4ab7",
   "metadata": {},
   "outputs": [
    {
     "name": "stderr",
     "output_type": "stream",
     "text": [
      "/tmp/ipykernel_1049946/2198688843.py:1: FutureWarning: Value based partial slicing on non-monotonic DatetimeIndexes with non-existing keys is deprecated and will raise a KeyError in a future Version.\n",
      "  mean_CDD_1971_2020 = result_CDD.loc['1971':'2020'].mean()\n",
      "/tmp/ipykernel_1049946/2198688843.py:1: FutureWarning: DataFrame.mean and DataFrame.median with numeric_only=None will include datetime64 and datetime64tz columns in a future version.\n",
      "  mean_CDD_1971_2020 = result_CDD.loc['1971':'2020'].mean()\n",
      "/tmp/ipykernel_1049946/2198688843.py:2: FutureWarning: Value based partial slicing on non-monotonic DatetimeIndexes with non-existing keys is deprecated and will raise a KeyError in a future Version.\n",
      "  mean_CDD_2021_2050 = result_CDD.loc['2021':'2050'].mean()\n",
      "/tmp/ipykernel_1049946/2198688843.py:2: FutureWarning: DataFrame.mean and DataFrame.median with numeric_only=None will include datetime64 and datetime64tz columns in a future version.\n",
      "  mean_CDD_2021_2050 = result_CDD.loc['2021':'2050'].mean()\n",
      "/tmp/ipykernel_1049946/2198688843.py:4: FutureWarning: Value based partial slicing on non-monotonic DatetimeIndexes with non-existing keys is deprecated and will raise a KeyError in a future Version.\n",
      "  mean_CSU_1971_2020 = result_CSU.loc['1971':'2020'].mean()\n",
      "/tmp/ipykernel_1049946/2198688843.py:4: FutureWarning: DataFrame.mean and DataFrame.median with numeric_only=None will include datetime64 and datetime64tz columns in a future version.\n",
      "  mean_CSU_1971_2020 = result_CSU.loc['1971':'2020'].mean()\n",
      "/tmp/ipykernel_1049946/2198688843.py:5: FutureWarning: Value based partial slicing on non-monotonic DatetimeIndexes with non-existing keys is deprecated and will raise a KeyError in a future Version.\n",
      "  mean_CSU_2021_2050 = result_CSU.loc['2021':'2050'].mean()\n",
      "/tmp/ipykernel_1049946/2198688843.py:5: FutureWarning: DataFrame.mean and DataFrame.median with numeric_only=None will include datetime64 and datetime64tz columns in a future version.\n",
      "  mean_CSU_2021_2050 = result_CSU.loc['2021':'2050'].mean()\n"
     ]
    }
   ],
   "source": [
    "mean_CDD_1971_2020 = result_CDD.loc['1971':'2020'].mean()\n",
    "mean_CDD_2021_2050 = result_CDD.loc['2021':'2050'].mean()\n",
    "\n",
    "mean_CSU_1971_2020 = result_CSU.loc['1971':'2020'].mean()\n",
    "mean_CSU_2021_2050 = result_CSU.loc['2021':'2050'].mean()"
   ]
  },
  {
   "cell_type": "code",
   "execution_count": 16,
   "id": "18583832-cb4a-4885-b6b2-9e8b3762eebc",
   "metadata": {},
   "outputs": [
    {
     "name": "stdout",
     "output_type": "stream",
     "text": [
      "Mean CDD (1971-2020): 13.161616325378418\n",
      "Mean CDD (2021-2050): 13.672268867492676\n",
      "Mean CSU (1971-2020): 14.666666984558105\n",
      "Mean CSU (2021-2050): 21.210084915161133\n"
     ]
    }
   ],
   "source": [
    "print(\"Mean CDD (1971-2020):\", mean_CDD_1971_2020['CDD'])\n",
    "print(\"Mean CDD (2021-2050):\", mean_CDD_2021_2050['CDD'])\n",
    "print(\"Mean CSU (1971-2020):\", mean_CSU_1971_2020['CSU'])\n",
    "print(\"Mean CSU (2021-2050):\", mean_CSU_2021_2050['CSU'])"
   ]
  },
  {
   "cell_type": "markdown",
   "id": "8aacb12a-b977-4719-b3c4-69de715f244c",
   "metadata": {},
   "source": [
    "## Historical folder"
   ]
  },
  {
   "cell_type": "code",
   "execution_count": 18,
   "id": "91bf6ce2-4f34-4cdb-9d5e-99663699f3f2",
   "metadata": {},
   "outputs": [],
   "source": [
    "path = Path('../data/copernicus/yearly_vars/')\n",
    "target_lat = 45.287865\n",
    "target_lon = 18.802666\n",
    "\n",
    "dataframes = {\n",
    "    'R20mm': [],\n",
    "    'RR': [],\n",
    "    'SU': [],\n",
    "    'TG': [],\n",
    "    'TR': [],\n",
    "}\n",
    "for file in path.glob('*.nc'):  # assuming they are all .nc files\n",
    "    for prefix, dfs in dataframes.items():\n",
    "        if file.name.startswith(prefix):\n",
    "            ds = xr.open_dataset(file)\n",
    "            nearest_data = ds.sel(lat=target_lat, lon=target_lon, method='nearest')\n",
    "            df = nearest_data.to_dataframe().reset_index(level='bounds', drop=True)\n",
    "            dfs.append(df)"
   ]
  },
  {
   "cell_type": "code",
   "execution_count": 19,
   "id": "3c47333f-e95c-45eb-8647-74687c7cee54",
   "metadata": {},
   "outputs": [],
   "source": [
    "results = {}\n",
    "for var_name, dfs in dataframes.items():\n",
    "    concatenated_df = pd.concat(dfs)\n",
    "    concatenated_df = concatenated_df.sort_index()\n",
    "    results[var_name] = concatenated_df"
   ]
  },
  {
   "cell_type": "markdown",
   "id": "5ed06212-b484-41b7-b5af-e3400a995371",
   "metadata": {},
   "source": [
    "* Heavy precipitation"
   ]
  },
  {
   "cell_type": "code",
   "execution_count": 22,
   "id": "2a2be43e-c594-425d-9bb8-bbdfe206fc62",
   "metadata": {},
   "outputs": [
    {
     "name": "stderr",
     "output_type": "stream",
     "text": [
      "/tmp/ipykernel_1049946/3162342403.py:1: FutureWarning: The default value of numeric_only in DataFrameGroupBy.sum is deprecated. In a future version, numeric_only will default to False. Either specify numeric_only or select only columns which should be valid for the function.\n",
      "  results['R20mm'].resample('Y').sum().loc['1971':'2020'].mean()\n"
     ]
    },
    {
     "data": {
      "text/plain": [
       "lat      3258.00\n",
       "lon      1350.00\n",
       "R20mm       3.24\n",
       "dtype: float64"
      ]
     },
     "execution_count": 22,
     "metadata": {},
     "output_type": "execute_result"
    }
   ],
   "source": [
    "results['R20mm'].resample('Y').sum().loc['1971':'2020'].mean()"
   ]
  },
  {
   "cell_type": "code",
   "execution_count": 23,
   "id": "8efd5194-253d-4d51-9be7-310dd03c5d27",
   "metadata": {},
   "outputs": [
    {
     "name": "stderr",
     "output_type": "stream",
     "text": [
      "/tmp/ipykernel_1049946/1142590946.py:1: FutureWarning: The default value of numeric_only in DataFrameGroupBy.sum is deprecated. In a future version, numeric_only will default to False. Either specify numeric_only or select only columns which should be valid for the function.\n",
      "  results['R20mm'].resample('Y').sum().loc['2021':'2050'].mean()\n"
     ]
    },
    {
     "data": {
      "text/plain": [
       "lat      3258.000000\n",
       "lon      1350.000000\n",
       "R20mm       3.333333\n",
       "dtype: float64"
      ]
     },
     "execution_count": 23,
     "metadata": {},
     "output_type": "execute_result"
    }
   ],
   "source": [
    "results['R20mm'].resample('Y').sum().loc['2021':'2050'].mean()"
   ]
  },
  {
   "cell_type": "markdown",
   "id": "0196bcdb-cedf-426d-a236-e7113db77bf9",
   "metadata": {},
   "source": [
    "* rainfall rate"
   ]
  },
  {
   "cell_type": "code",
   "execution_count": 25,
   "id": "06bd57fa-7b03-46d2-9fb8-31bd7eb972fe",
   "metadata": {},
   "outputs": [
    {
     "name": "stderr",
     "output_type": "stream",
     "text": [
      "/tmp/ipykernel_1049946/234440657.py:1: FutureWarning: The default value of numeric_only in DataFrameGroupBy.mean is deprecated. In a future version, numeric_only will default to False. Either specify numeric_only or select only columns which should be valid for the function.\n",
      "  results['RR'].resample('Y').mean().loc['1971':'2020'].mean()\n"
     ]
    },
    {
     "data": {
      "text/plain": [
       "lat    45.250000\n",
       "lon    18.750000\n",
       "RR     21.344044\n",
       "dtype: float64"
      ]
     },
     "execution_count": 25,
     "metadata": {},
     "output_type": "execute_result"
    }
   ],
   "source": [
    "results['RR'].resample('Y').mean().loc['1971':'2020'].mean()"
   ]
  },
  {
   "cell_type": "code",
   "execution_count": 26,
   "id": "81097b41-3a78-4560-b845-29044d9d487c",
   "metadata": {},
   "outputs": [
    {
     "name": "stderr",
     "output_type": "stream",
     "text": [
      "/tmp/ipykernel_1049946/2869325977.py:1: FutureWarning: The default value of numeric_only in DataFrameGroupBy.mean is deprecated. In a future version, numeric_only will default to False. Either specify numeric_only or select only columns which should be valid for the function.\n",
      "  results['RR'].resample('Y').mean().loc['2021':'2050'].mean()\n"
     ]
    },
    {
     "data": {
      "text/plain": [
       "lat    45.250000\n",
       "lon    18.750000\n",
       "RR     21.474613\n",
       "dtype: float64"
      ]
     },
     "execution_count": 26,
     "metadata": {},
     "output_type": "execute_result"
    }
   ],
   "source": [
    "results['RR'].resample('Y').mean().loc['2021':'2050'].mean()"
   ]
  },
  {
   "cell_type": "markdown",
   "id": "39f548b5-cf2e-459d-8324-a16f4160d27c",
   "metadata": {},
   "source": [
    "* summer days"
   ]
  },
  {
   "cell_type": "code",
   "execution_count": 34,
   "id": "21298c3b-fe09-4746-ae7b-8f220e71ab29",
   "metadata": {},
   "outputs": [
    {
     "data": {
      "text/html": [
       "<div>\n",
       "<style scoped>\n",
       "    .dataframe tbody tr th:only-of-type {\n",
       "        vertical-align: middle;\n",
       "    }\n",
       "\n",
       "    .dataframe tbody tr th {\n",
       "        vertical-align: top;\n",
       "    }\n",
       "\n",
       "    .dataframe thead th {\n",
       "        text-align: right;\n",
       "    }\n",
       "</style>\n",
       "<table border=\"1\" class=\"dataframe\">\n",
       "  <thead>\n",
       "    <tr style=\"text-align: right;\">\n",
       "      <th></th>\n",
       "      <th>threshold</th>\n",
       "      <th>lat</th>\n",
       "      <th>lon</th>\n",
       "      <th>time_bounds</th>\n",
       "      <th>SU</th>\n",
       "    </tr>\n",
       "    <tr>\n",
       "      <th>time</th>\n",
       "      <th></th>\n",
       "      <th></th>\n",
       "      <th></th>\n",
       "      <th></th>\n",
       "      <th></th>\n",
       "    </tr>\n",
       "  </thead>\n",
       "  <tbody>\n",
       "    <tr>\n",
       "      <th>1951-01-05</th>\n",
       "      <td>20.0</td>\n",
       "      <td>45.25</td>\n",
       "      <td>18.75</td>\n",
       "      <td>1951-01-01</td>\n",
       "      <td>0.0</td>\n",
       "    </tr>\n",
       "    <tr>\n",
       "      <th>1951-01-05</th>\n",
       "      <td>20.0</td>\n",
       "      <td>45.25</td>\n",
       "      <td>18.75</td>\n",
       "      <td>1951-01-11</td>\n",
       "      <td>0.0</td>\n",
       "    </tr>\n",
       "    <tr>\n",
       "      <th>1951-01-05</th>\n",
       "      <td>25.0</td>\n",
       "      <td>45.25</td>\n",
       "      <td>18.75</td>\n",
       "      <td>1951-01-01</td>\n",
       "      <td>0.0</td>\n",
       "    </tr>\n",
       "    <tr>\n",
       "      <th>1951-01-05</th>\n",
       "      <td>25.0</td>\n",
       "      <td>45.25</td>\n",
       "      <td>18.75</td>\n",
       "      <td>1951-01-11</td>\n",
       "      <td>0.0</td>\n",
       "    </tr>\n",
       "    <tr>\n",
       "      <th>1951-01-05</th>\n",
       "      <td>30.0</td>\n",
       "      <td>45.25</td>\n",
       "      <td>18.75</td>\n",
       "      <td>1951-01-01</td>\n",
       "      <td>0.0</td>\n",
       "    </tr>\n",
       "    <tr>\n",
       "      <th>...</th>\n",
       "      <td>...</td>\n",
       "      <td>...</td>\n",
       "      <td>...</td>\n",
       "      <td>...</td>\n",
       "      <td>...</td>\n",
       "    </tr>\n",
       "    <tr>\n",
       "      <th>2070-12-25</th>\n",
       "      <td>25.0</td>\n",
       "      <td>45.25</td>\n",
       "      <td>18.75</td>\n",
       "      <td>2071-01-01</td>\n",
       "      <td>0.0</td>\n",
       "    </tr>\n",
       "    <tr>\n",
       "      <th>2070-12-25</th>\n",
       "      <td>30.0</td>\n",
       "      <td>45.25</td>\n",
       "      <td>18.75</td>\n",
       "      <td>2070-12-21</td>\n",
       "      <td>0.0</td>\n",
       "    </tr>\n",
       "    <tr>\n",
       "      <th>2070-12-25</th>\n",
       "      <td>30.0</td>\n",
       "      <td>45.25</td>\n",
       "      <td>18.75</td>\n",
       "      <td>2071-01-01</td>\n",
       "      <td>0.0</td>\n",
       "    </tr>\n",
       "    <tr>\n",
       "      <th>2070-12-25</th>\n",
       "      <td>35.0</td>\n",
       "      <td>45.25</td>\n",
       "      <td>18.75</td>\n",
       "      <td>2070-12-21</td>\n",
       "      <td>0.0</td>\n",
       "    </tr>\n",
       "    <tr>\n",
       "      <th>2070-12-25</th>\n",
       "      <td>35.0</td>\n",
       "      <td>45.25</td>\n",
       "      <td>18.75</td>\n",
       "      <td>2071-01-01</td>\n",
       "      <td>0.0</td>\n",
       "    </tr>\n",
       "  </tbody>\n",
       "</table>\n",
       "<p>34560 rows × 5 columns</p>\n",
       "</div>"
      ],
      "text/plain": [
       "            threshold    lat    lon time_bounds   SU\n",
       "time                                                \n",
       "1951-01-05       20.0  45.25  18.75  1951-01-01  0.0\n",
       "1951-01-05       20.0  45.25  18.75  1951-01-11  0.0\n",
       "1951-01-05       25.0  45.25  18.75  1951-01-01  0.0\n",
       "1951-01-05       25.0  45.25  18.75  1951-01-11  0.0\n",
       "1951-01-05       30.0  45.25  18.75  1951-01-01  0.0\n",
       "...               ...    ...    ...         ...  ...\n",
       "2070-12-25       25.0  45.25  18.75  2071-01-01  0.0\n",
       "2070-12-25       30.0  45.25  18.75  2070-12-21  0.0\n",
       "2070-12-25       30.0  45.25  18.75  2071-01-01  0.0\n",
       "2070-12-25       35.0  45.25  18.75  2070-12-21  0.0\n",
       "2070-12-25       35.0  45.25  18.75  2071-01-01  0.0\n",
       "\n",
       "[34560 rows x 5 columns]"
      ]
     },
     "execution_count": 34,
     "metadata": {},
     "output_type": "execute_result"
    }
   ],
   "source": [
    "results['SU'].reset_index('threshold')"
   ]
  },
  {
   "cell_type": "code",
   "execution_count": 36,
   "id": "cc78750b-c530-4fac-b99f-46b640a200af",
   "metadata": {},
   "outputs": [
    {
     "name": "stderr",
     "output_type": "stream",
     "text": [
      "/tmp/ipykernel_1049946/796382861.py:1: FutureWarning: The default value of numeric_only in DataFrameGroupBy.sum is deprecated. In a future version, numeric_only will default to False. Either specify numeric_only or select only columns which should be valid for the function.\n",
      "  results['SU'].reset_index('threshold')[results['SU'].reset_index('threshold')['threshold'] == 30.0].resample('Y').sum().loc['1971':'2020'].mean()\n"
     ]
    },
    {
     "data": {
      "text/plain": [
       "threshold    2160.00\n",
       "lat          3258.00\n",
       "lon          1350.00\n",
       "SU             47.68\n",
       "dtype: float64"
      ]
     },
     "execution_count": 36,
     "metadata": {},
     "output_type": "execute_result"
    }
   ],
   "source": [
    "results['SU'].reset_index('threshold')[results['SU'].reset_index('threshold')['threshold'] == 30.0].resample('Y').sum().loc['1971':'2020'].mean()"
   ]
  },
  {
   "cell_type": "code",
   "execution_count": 37,
   "id": "164ac481-9371-4e42-809d-9fa8e72293a3",
   "metadata": {},
   "outputs": [
    {
     "name": "stderr",
     "output_type": "stream",
     "text": [
      "/tmp/ipykernel_1049946/3939068461.py:1: FutureWarning: The default value of numeric_only in DataFrameGroupBy.sum is deprecated. In a future version, numeric_only will default to False. Either specify numeric_only or select only columns which should be valid for the function.\n",
      "  results['SU'].reset_index('threshold')[results['SU'].reset_index('threshold')['threshold'] == 30.0].resample('Y').sum().loc['2021':'2050'].mean()\n"
     ]
    },
    {
     "data": {
      "text/plain": [
       "threshold    2160.000000\n",
       "lat          3258.000000\n",
       "lon          1350.000000\n",
       "SU             83.666664\n",
       "dtype: float64"
      ]
     },
     "execution_count": 37,
     "metadata": {},
     "output_type": "execute_result"
    }
   ],
   "source": [
    "results['SU'].reset_index('threshold')[results['SU'].reset_index('threshold')['threshold'] == 30.0].resample('Y').sum().loc['2021':'2050'].mean()"
   ]
  },
  {
   "cell_type": "markdown",
   "id": "0e3a2b25-dcc2-47d5-9f6d-c80378a51b87",
   "metadata": {},
   "source": [
    "* Mean daily temp"
   ]
  },
  {
   "cell_type": "code",
   "execution_count": 38,
   "id": "313d6f4b-10b8-4bf1-9590-e09eb8eaabb8",
   "metadata": {},
   "outputs": [
    {
     "name": "stderr",
     "output_type": "stream",
     "text": [
      "/tmp/ipykernel_1049946/1023986899.py:1: FutureWarning: The default value of numeric_only in DataFrameGroupBy.mean is deprecated. In a future version, numeric_only will default to False. Either specify numeric_only or select only columns which should be valid for the function.\n",
      "  results['TG'].resample('Y').mean().loc['1971':'2020'].mean()\n"
     ]
    },
    {
     "data": {
      "text/plain": [
       "lat     45.250000\n",
       "lon     18.750000\n",
       "TG     285.158539\n",
       "dtype: float64"
      ]
     },
     "execution_count": 38,
     "metadata": {},
     "output_type": "execute_result"
    }
   ],
   "source": [
    "results['TG'].resample('Y').mean().loc['1971':'2020'].mean()"
   ]
  },
  {
   "cell_type": "code",
   "execution_count": 39,
   "id": "36f9412b-a6ab-4a00-98bd-595701982074",
   "metadata": {},
   "outputs": [
    {
     "name": "stderr",
     "output_type": "stream",
     "text": [
      "/tmp/ipykernel_1049946/3695928439.py:1: FutureWarning: The default value of numeric_only in DataFrameGroupBy.mean is deprecated. In a future version, numeric_only will default to False. Either specify numeric_only or select only columns which should be valid for the function.\n",
      "  results['TG'].resample('Y').mean().loc['2021':'2050'].mean()\n"
     ]
    },
    {
     "data": {
      "text/plain": [
       "lat     45.250000\n",
       "lon     18.750000\n",
       "TG     286.513702\n",
       "dtype: float64"
      ]
     },
     "execution_count": 39,
     "metadata": {},
     "output_type": "execute_result"
    }
   ],
   "source": [
    "results['TG'].resample('Y').mean().loc['2021':'2050'].mean()"
   ]
  },
  {
   "cell_type": "markdown",
   "id": "b4e32a82-b784-41cd-86ca-c4611aac70f6",
   "metadata": {},
   "source": [
    "* Tropical nights"
   ]
  },
  {
   "cell_type": "code",
   "execution_count": 41,
   "id": "fa2c9b03-becd-49c5-ad07-42431d41eb5d",
   "metadata": {},
   "outputs": [
    {
     "name": "stderr",
     "output_type": "stream",
     "text": [
      "/tmp/ipykernel_1049946/993430843.py:1: FutureWarning: The default value of numeric_only in DataFrameGroupBy.sum is deprecated. In a future version, numeric_only will default to False. Either specify numeric_only or select only columns which should be valid for the function.\n",
      "  results['TR'].resample('Y').sum().loc['1971':'2020'].mean()\n"
     ]
    },
    {
     "data": {
      "text/plain": [
       "lat    3258.00\n",
       "lon    1350.00\n",
       "TR       10.12\n",
       "dtype: float64"
      ]
     },
     "execution_count": 41,
     "metadata": {},
     "output_type": "execute_result"
    }
   ],
   "source": [
    "results['TR'].resample('Y').sum().loc['1971':'2020'].mean()"
   ]
  },
  {
   "cell_type": "code",
   "execution_count": 44,
   "id": "2e42d835-8897-4827-bd14-a1aa76c831bd",
   "metadata": {},
   "outputs": [
    {
     "name": "stderr",
     "output_type": "stream",
     "text": [
      "/tmp/ipykernel_1049946/478428044.py:1: FutureWarning: The default value of numeric_only in DataFrameGroupBy.sum is deprecated. In a future version, numeric_only will default to False. Either specify numeric_only or select only columns which should be valid for the function.\n",
      "  results['TR'].resample('Y').sum().loc['2021':'2050'].mean()\n"
     ]
    },
    {
     "data": {
      "text/plain": [
       "lat    3258.0\n",
       "lon    1350.0\n",
       "TR       27.0\n",
       "dtype: float64"
      ]
     },
     "execution_count": 44,
     "metadata": {},
     "output_type": "execute_result"
    }
   ],
   "source": [
    "results['TR'].resample('Y').sum().loc['2021':'2050'].mean()"
   ]
  }
 ],
 "metadata": {
  "kernelspec": {
   "display_name": "secap",
   "language": "python",
   "name": "secap"
  },
  "language_info": {
   "codemirror_mode": {
    "name": "ipython",
    "version": 3
   },
   "file_extension": ".py",
   "mimetype": "text/x-python",
   "name": "python",
   "nbconvert_exporter": "python",
   "pygments_lexer": "ipython3",
   "version": "3.10.11"
  }
 },
 "nbformat": 4,
 "nbformat_minor": 5
}
